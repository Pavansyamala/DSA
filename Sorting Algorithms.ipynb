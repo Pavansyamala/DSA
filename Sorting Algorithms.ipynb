{
 "cells": [
  {
   "cell_type": "markdown",
   "id": "fd413867",
   "metadata": {},
   "source": [
    "## Bubble Sort Algorithm\n",
    "\n",
    "###### Repeatedly Sort Until element reaches to the correct position "
   ]
  },
  {
   "cell_type": "code",
   "execution_count": 14,
   "id": "f8e96f1f",
   "metadata": {},
   "outputs": [
    {
     "name": "stdout",
     "output_type": "stream",
     "text": [
      "Iteration : 0\n",
      "------> 2 9 7 4 3 9 12 6 5\n",
      "------> 2 7 9 4 3 9 12 6 5\n",
      "------> 2 7 4 9 3 9 12 6 5\n",
      "------> 2 7 4 3 9 9 12 6 5\n",
      "------> 2 7 4 3 9 9 12 6 5\n",
      "------> 2 7 4 3 9 9 12 6 5\n",
      "------> 2 7 4 3 9 9 6 12 5\n",
      "------> 2 7 4 3 9 9 6 5 12\n",
      "Iteration : 1\n",
      "------> 2 7 4 3 9 9 6 5 12\n",
      "------> 2 4 7 3 9 9 6 5 12\n",
      "------> 2 4 3 7 9 9 6 5 12\n",
      "------> 2 4 3 7 9 9 6 5 12\n",
      "------> 2 4 3 7 9 9 6 5 12\n",
      "------> 2 4 3 7 9 6 9 5 12\n",
      "------> 2 4 3 7 9 6 5 9 12\n",
      "Iteration : 2\n",
      "------> 2 4 3 7 9 6 5 9 12\n",
      "------> 2 3 4 7 9 6 5 9 12\n",
      "------> 2 3 4 7 9 6 5 9 12\n",
      "------> 2 3 4 7 9 6 5 9 12\n",
      "------> 2 3 4 7 6 9 5 9 12\n",
      "------> 2 3 4 7 6 5 9 9 12\n",
      "Iteration : 3\n",
      "------> 2 3 4 7 6 5 9 9 12\n",
      "------> 2 3 4 7 6 5 9 9 12\n",
      "------> 2 3 4 7 6 5 9 9 12\n",
      "------> 2 3 4 6 7 5 9 9 12\n",
      "------> 2 3 4 6 5 7 9 9 12\n",
      "Iteration : 4\n",
      "------> 2 3 4 6 5 7 9 9 12\n",
      "------> 2 3 4 6 5 7 9 9 12\n",
      "------> 2 3 4 6 5 7 9 9 12\n",
      "------> 2 3 4 5 6 7 9 9 12\n",
      "Iteration : 5\n",
      "------> 2 3 4 5 6 7 9 9 12\n",
      "------> 2 3 4 5 6 7 9 9 12\n",
      "------> 2 3 4 5 6 7 9 9 12\n"
     ]
    }
   ],
   "source": [
    "def BubbleSortAlgorithm(arr):\n",
    "    n = len(arr)\n",
    "    for i in range(n-1):\n",
    "        flag = False \n",
    "        ## For checking is there any Swaps are Taking Place in this iteration or not if swaps are not taking then we can brea the loop as the array is already sorted \n",
    "        print(f\"Iteration : {i}\")\n",
    "        for j in range(n-1-i):\n",
    "            if arr[j] > arr[j+1] :\n",
    "                arr[j] , arr[j+1] = arr[j+1] , arr[j]\n",
    "                flag = True \n",
    "            print(\"------>\" , *arr)\n",
    "        if not flag:\n",
    "            break\n",
    "\n",
    "array = [9,2,7,4,3,9,12,6,5]\n",
    "BubbleSortAlgorithm(array)\n",
    "# print(array)"
   ]
  },
  {
   "cell_type": "markdown",
   "id": "685f4517",
   "metadata": {},
   "source": [
    "## Selection Sort Algorithm\n",
    "For Every iteration First Find the minimum element then swap wih the first element of that iteration from where you started finding minimum element"
   ]
  },
  {
   "cell_type": "code",
   "execution_count": 15,
   "id": "38b257f2",
   "metadata": {},
   "outputs": [
    {
     "name": "stdout",
     "output_type": "stream",
     "text": [
      "Iteration : 0\n",
      "------> 2 9 7 4 3 9 12 6 5\n",
      "Iteration : 1\n",
      "------> 2 3 7 4 9 9 12 6 5\n",
      "Iteration : 2\n",
      "------> 2 3 4 7 9 9 12 6 5\n",
      "Iteration : 3\n",
      "------> 2 3 4 5 9 9 12 6 7\n",
      "Iteration : 4\n",
      "------> 2 3 4 5 6 9 12 9 7\n",
      "Iteration : 5\n",
      "------> 2 3 4 5 6 7 12 9 9\n",
      "Iteration : 6\n",
      "------> 2 3 4 5 6 7 9 12 9\n",
      "Iteration : 7\n",
      "------> 2 3 4 5 6 7 9 9 12\n",
      "[2, 3, 4, 5, 6, 7, 9, 9, 12]\n"
     ]
    }
   ],
   "source": [
    "def SelectionSortingAlgorithm(arr):\n",
    "    n = len(arr)\n",
    "    for i in range(n-1):\n",
    "        min_index = i\n",
    "        print(f\"Iteration : {i}\")\n",
    "        for j in range(i+1 , n):\n",
    "            if arr[j] < arr[min_index] :\n",
    "                min_index = j \n",
    "        if min_index != i :\n",
    "            arr[i] , arr[min_index] = arr[min_index] , arr[i]\n",
    "        print(\"------>\" , *arr)  \n",
    "array = [9,2,7,4,3,9,12,6,5]\n",
    "SelectionSortingAlgorithm(array)\n",
    "print(array)"
   ]
  },
  {
   "cell_type": "markdown",
   "id": "1c44fc35",
   "metadata": {},
   "source": [
    "## Insertion Sorting Algorithm \n",
    "Divides whole array into 2 parts where 1st part is Sorted part and the other part is Unsorted part\n",
    "for every iteration length of sorted array is increasing where the length of unsorted array is decreasing"
   ]
  },
  {
   "cell_type": "code",
   "execution_count": 16,
   "id": "2ccc416b",
   "metadata": {},
   "outputs": [
    {
     "name": "stdout",
     "output_type": "stream",
     "text": [
      "Iteration : 1\n",
      "------> 9 9 7 4 3 9 12 6 5\n",
      "------> 2 9 7 4 3 9 12 6 5\n",
      "Iteration : 2\n",
      "------> 2 9 9 4 3 9 12 6 5\n",
      "------> 2 7 9 4 3 9 12 6 5\n",
      "Iteration : 3\n",
      "------> 2 7 9 9 3 9 12 6 5\n",
      "------> 2 7 7 9 3 9 12 6 5\n",
      "------> 2 4 7 9 3 9 12 6 5\n",
      "Iteration : 4\n",
      "------> 2 4 7 9 9 9 12 6 5\n",
      "------> 2 4 7 7 9 9 12 6 5\n",
      "------> 2 4 4 7 9 9 12 6 5\n",
      "------> 2 3 4 7 9 9 12 6 5\n",
      "Iteration : 5\n",
      "------> 2 3 4 7 9 9 12 6 5\n",
      "Iteration : 6\n",
      "------> 2 3 4 7 9 9 12 6 5\n",
      "Iteration : 7\n",
      "------> 2 3 4 7 9 9 12 12 5\n",
      "------> 2 3 4 7 9 9 9 12 5\n",
      "------> 2 3 4 7 9 9 9 12 5\n",
      "------> 2 3 4 7 7 9 9 12 5\n",
      "------> 2 3 4 6 7 9 9 12 5\n",
      "Iteration : 8\n",
      "------> 2 3 4 6 7 9 9 12 12\n",
      "------> 2 3 4 6 7 9 9 9 12\n",
      "------> 2 3 4 6 7 9 9 9 12\n",
      "------> 2 3 4 6 7 7 9 9 12\n",
      "------> 2 3 4 6 6 7 9 9 12\n",
      "------> 2 3 4 5 6 7 9 9 12\n",
      "[2, 3, 4, 5, 6, 7, 9, 9, 12]\n"
     ]
    }
   ],
   "source": [
    "def InsertionSortAlgorithm(arr):\n",
    "    n = len(arr)\n",
    "    for i in range(1 , n):\n",
    "        curr_element = arr[i] \n",
    "        j = i-1\n",
    "        print(f\"Iteration : {i}\")\n",
    "        while j >= 0 and arr[j] > curr_element :\n",
    "            arr[j+1] = arr[j] \n",
    "            j -= 1 \n",
    "            print(\"------>\" , *arr)\n",
    "        arr[j+1] = curr_element\n",
    "        print(\"------>\" , *arr)\n",
    "array = [9,2,7,4,3,9,12,6,5]\n",
    "InsertionSortAlgorithm(array)\n",
    "print(array)"
   ]
  },
  {
   "cell_type": "code",
   "execution_count": 11,
   "id": "6d047844",
   "metadata": {},
   "outputs": [
    {
     "name": "stdout",
     "output_type": "stream",
     "text": [
      "[1, 2, 3, 4, 5, 6, 7, 8, 9]\n"
     ]
    }
   ],
   "source": [
    "arr1 = [9 , 8 , 7 , 6 , 5 , 4 , 3 , 2 , 1]\n",
    "InsertionSortAlgorithm(arr1)\n",
    "print(arr1)"
   ]
  },
  {
   "cell_type": "markdown",
   "id": "76f9c180",
   "metadata": {},
   "source": [
    "## Merge Sort Algorithms "
   ]
  },
  {
   "cell_type": "code",
   "execution_count": 37,
   "id": "a40ccfbd",
   "metadata": {},
   "outputs": [],
   "source": [
    "def Merge(arr , left , mid , right):\n",
    "    a = []\n",
    "    b = []\n",
    "    a_length = mid - left + 1\n",
    "    b_length = right - mid \n",
    "    for i in range(a_length):\n",
    "        a.append(arr[left + i])\n",
    "    for j in range(b_length):\n",
    "        b.append(arr[mid+1+j])\n",
    "    \n",
    "    i = 0\n",
    "    j = 0\n",
    "    k = left\n",
    "    while i < a_length and j < b_length :\n",
    "        if a[i] < b[j] :\n",
    "            arr[k] = a[i]\n",
    "            k += 1 \n",
    "            i += 1 \n",
    "        else :\n",
    "            arr[k] = b[j]\n",
    "            k += 1\n",
    "            j += 1 \n",
    "    while i < a_length :\n",
    "        arr[k] = a[i]\n",
    "        k += 1 \n",
    "        i += 1 \n",
    "    while j < b_length:\n",
    "        arr[k] = b[j] \n",
    "        k += 1 \n",
    "        j += 1 \n",
    "def MergeSortAlgoritm(arr , left , right):\n",
    "    if (left >= right):\n",
    "        return \n",
    "    mid = (left+right)//2 \n",
    "    MergeSortAlgoritm(arr , left , mid)\n",
    "    MergeSortAlgoritm(arr, mid+1 , right)\n",
    "    Merge(arr , left , mid , right)"
   ]
  },
  {
   "cell_type": "code",
   "execution_count": 38,
   "id": "f0c47c71",
   "metadata": {},
   "outputs": [],
   "source": [
    "arr1 = [9 , 8 , 7 , 6 , 5 , 4 , 3 , 2 , 1]\n",
    "MergeSortAlgoritm(arr1 , 0 , len(arr1)-1)"
   ]
  },
  {
   "cell_type": "code",
   "execution_count": 39,
   "id": "ecbc5d98",
   "metadata": {},
   "outputs": [
    {
     "data": {
      "text/plain": [
       "[1, 2, 3, 4, 5, 6, 7, 8, 9]"
      ]
     },
     "execution_count": 39,
     "metadata": {},
     "output_type": "execute_result"
    }
   ],
   "source": [
    "arr1"
   ]
  },
  {
   "cell_type": "markdown",
   "id": "8f5d6998",
   "metadata": {},
   "source": [
    "## QuickSortAlgorithm"
   ]
  },
  {
   "cell_type": "code",
   "execution_count": 40,
   "id": "eda0bd9c",
   "metadata": {},
   "outputs": [],
   "source": [
    "def Partion(arr , first , last):\n",
    "    \n",
    "    pivot = arr[last]\n",
    "    i = first - 1 \n",
    "    for j in range(first , last + 1):\n",
    "        if arr[j] < pivot :\n",
    "            i += 1 \n",
    "            arr[i] , arr[j] = arr[j] , arr[i] \n",
    "    arr[i+1] , arr[j] = arr[j] , arr[i+1]\n",
    "    return i+1 \n",
    "\n",
    "\n",
    "def QuickSortAlgorithm(arr , first , last):\n",
    "    if first >= last :\n",
    "        return \n",
    "    pivot = Partion(arr , first , last)\n",
    "    QuickSortAlgorithm(arr , first , pivot-1)\n",
    "    QuickSortAlgorithm(arr , pivot + 1 , last)"
   ]
  },
  {
   "cell_type": "code",
   "execution_count": 42,
   "id": "f5a3aaaf",
   "metadata": {},
   "outputs": [],
   "source": [
    "arr1 = [9,8,7,6,5,4,3,2,1]\n",
    "QuickSortAlgorithm(arr1 , 0 , 8)"
   ]
  },
  {
   "cell_type": "code",
   "execution_count": 43,
   "id": "10740d48",
   "metadata": {},
   "outputs": [
    {
     "data": {
      "text/plain": [
       "[1, 2, 3, 4, 5, 6, 7, 8, 9]"
      ]
     },
     "execution_count": 43,
     "metadata": {},
     "output_type": "execute_result"
    }
   ],
   "source": [
    "arr1"
   ]
  },
  {
   "cell_type": "code",
   "execution_count": null,
   "id": "f1bcfa89",
   "metadata": {},
   "outputs": [],
   "source": []
  },
  {
   "cell_type": "markdown",
   "id": "50bd5ab8",
   "metadata": {},
   "source": [
    "## Count Sort Algorithm"
   ]
  },
  {
   "cell_type": "code",
   "execution_count": 46,
   "id": "4d238c36",
   "metadata": {},
   "outputs": [],
   "source": [
    "def CountSortAlgorithm(arr):\n",
    "    n = len(arr)\n",
    "    maxi = arr[0] \n",
    "    for i in range(1 , n):\n",
    "        if arr[i] > maxi :\n",
    "            maxi = arr[i]\n",
    "    frequency = [0 for i in range(maxi+1)]\n",
    "    for i in arr :\n",
    "        frequency[i] += 1 \n",
    "    for i in range(1 , maxi+1):\n",
    "        frequency[i] += frequency[i-1]\n",
    "    \n",
    "    ans = [i for i in range(n)]\n",
    "    \n",
    "    i = n-1 \n",
    "    \n",
    "    while i >= 0 :\n",
    "        \n",
    "        frequency[arr[i]] -= 1 \n",
    "        ans[frequency[arr[i]]] = arr[i]\n",
    "        i -= 1 \n",
    "        \n",
    "    return ans"
   ]
  },
  {
   "cell_type": "code",
   "execution_count": 48,
   "id": "5a418e16",
   "metadata": {},
   "outputs": [],
   "source": [
    "arr1 = [9-i for i in range(9)]\n",
    "ans = CountSortAlgorithm(arr1)"
   ]
  },
  {
   "cell_type": "code",
   "execution_count": 49,
   "id": "cd202724",
   "metadata": {},
   "outputs": [
    {
     "data": {
      "text/plain": [
       "[1, 2, 3, 4, 5, 6, 7, 8, 9]"
      ]
     },
     "execution_count": 49,
     "metadata": {},
     "output_type": "execute_result"
    }
   ],
   "source": [
    "ans"
   ]
  },
  {
   "cell_type": "code",
   "execution_count": null,
   "id": "26cb15b6",
   "metadata": {},
   "outputs": [],
   "source": []
  },
  {
   "cell_type": "code",
   "execution_count": null,
   "id": "1eb6dc02",
   "metadata": {},
   "outputs": [],
   "source": []
  },
  {
   "cell_type": "code",
   "execution_count": null,
   "id": "3488fe6f",
   "metadata": {},
   "outputs": [],
   "source": []
  },
  {
   "cell_type": "code",
   "execution_count": null,
   "id": "509f0dcc",
   "metadata": {},
   "outputs": [],
   "source": []
  }
 ],
 "metadata": {
  "kernelspec": {
   "display_name": "Python 3 (ipykernel)",
   "language": "python",
   "name": "python3"
  },
  "language_info": {
   "codemirror_mode": {
    "name": "ipython",
    "version": 3
   },
   "file_extension": ".py",
   "mimetype": "text/x-python",
   "name": "python",
   "nbconvert_exporter": "python",
   "pygments_lexer": "ipython3",
   "version": "3.11.5"
  }
 },
 "nbformat": 4,
 "nbformat_minor": 5
}
